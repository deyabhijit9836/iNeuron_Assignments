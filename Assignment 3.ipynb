{
 "cells": [
  {
   "cell_type": "markdown",
   "metadata": {},
   "source": [
    "# Assignment 3"
   ]
  },
  {
   "cell_type": "markdown",
   "metadata": {},
   "source": [
    "#### Task 1.1"
   ]
  },
  {
   "cell_type": "code",
   "execution_count": 6,
   "metadata": {},
   "outputs": [],
   "source": [
    "def func(a,b):\n",
    "    try:\n",
    "        c=a/b\n",
    "        return c\n",
    "    except:\n",
    "        return(\"Please avoid giving zero(0)\")\n",
    "        "
   ]
  },
  {
   "cell_type": "code",
   "execution_count": 7,
   "metadata": {},
   "outputs": [
    {
     "data": {
      "text/plain": [
       "'Please avoid giving zero(0)'"
      ]
     },
     "execution_count": 7,
     "metadata": {},
     "output_type": "execute_result"
    }
   ],
   "source": [
    "d=func(3,0)\n",
    "d"
   ]
  },
  {
   "cell_type": "markdown",
   "metadata": {},
   "source": [
    "#### Task 1.2"
   ]
  },
  {
   "cell_type": "code",
   "execution_count": 17,
   "metadata": {},
   "outputs": [
    {
     "name": "stdout",
     "output_type": "stream",
     "text": [
      "Americans play Baseball\n",
      "Americans play Cricket\n",
      "Americans watch Baseball\n",
      "Americans watch Cricket\n",
      "Indians play Baseball\n",
      "Indians play Cricket\n",
      "Indians watch Baseball\n",
      "Indians watch Cricket\n"
     ]
    }
   ],
   "source": [
    "subjects=[\"Americans\",\"Indians\"]\n",
    "verbs=[\"play\",\"watch\"]\n",
    "objects=[\"Baseball\",\"Cricket\"]\n",
    "for x in subjects:\n",
    "    for y in verbs:\n",
    "        for z in objects:\n",
    "            print(x,y,z)\n",
    "\n"
   ]
  },
  {
   "cell_type": "markdown",
   "metadata": {},
   "source": [
    "#### Task 2.1"
   ]
  },
  {
   "cell_type": "code",
   "execution_count": 18,
   "metadata": {},
   "outputs": [],
   "source": [
    "import numpy as np\n",
    "def ATV_MTRX(inpt,n,increasing=False):\n",
    "    if not increasing:\n",
    "        output_mtrx=np.array([x**(n-1-i) for x in inpt for i in range(n)]).reshape(inpt.size,n)\n",
    "    else:\n",
    "        output_mtrx=np.array([x**i for x in inpt for i in range(n)]).reshape(inpt.size,n)\n",
    "    return output_mtrx"
   ]
  },
  {
   "cell_type": "code",
   "execution_count": 19,
   "metadata": {},
   "outputs": [
    {
     "name": "stdout",
     "output_type": "stream",
     "text": [
      "*************OUTPUT SAMPLE1*****************\n",
      "\n",
      "The input array is: [1 2 3 4 5] \n",
      "\n",
      "The no. of columns of the output ATV matrix is: 3 \n",
      "\n",
      "The ATV Matrix in decreasing order is:\n",
      "\n",
      " [[ 1  1  1]\n",
      " [ 4  2  1]\n",
      " [ 9  3  1]\n",
      " [16  4  1]\n",
      " [25  5  1]] \n",
      "\n",
      "The ATV Matrix in increasing order is:\n",
      "\n",
      " [[ 1  1  1]\n",
      " [ 1  2  4]\n",
      " [ 1  3  9]\n",
      " [ 1  4 16]\n",
      " [ 1  5 25]] \n",
      "\n"
     ]
    }
   ],
   "source": [
    "inpt=np.array([1,2,3,4,5])\n",
    "no_of_columns=3\n",
    "ATV_MTRX_DECREASE=ATV_MTRX(inpt,no_of_columns,False)\n",
    "ATV_MTRX_INCREASE=ATV_MTRX(inpt,no_of_columns,True)\n",
    "\n",
    "print(\"*************OUTPUT SAMPLE1*****************\\n\")\n",
    "print(\"The input array is:\",inpt,\"\\n\")\n",
    "print(\"The no. of columns of the output ATV matrix is:\",no_of_columns,\"\\n\")\n",
    "print(\"The ATV Matrix in decreasing order is:\\n\\n\",ATV_MTRX_DECREASE,\"\\n\")\n",
    "print(\"The ATV Matrix in increasing order is:\\n\\n\",ATV_MTRX_INCREASE,\"\\n\")"
   ]
  }
 ],
 "metadata": {
  "kernelspec": {
   "display_name": "Python 3",
   "language": "python",
   "name": "python3"
  },
  "language_info": {
   "codemirror_mode": {
    "name": "ipython",
    "version": 3
   },
   "file_extension": ".py",
   "mimetype": "text/x-python",
   "name": "python",
   "nbconvert_exporter": "python",
   "pygments_lexer": "ipython3",
   "version": "3.7.3"
  }
 },
 "nbformat": 4,
 "nbformat_minor": 2
}
