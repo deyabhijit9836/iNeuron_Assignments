{
 "cells": [
  {
   "cell_type": "markdown",
   "metadata": {},
   "source": [
    "# Task 1:"
   ]
  },
  {
   "cell_type": "markdown",
   "metadata": {},
   "source": [
    "# Question 1- Answer"
   ]
  },
  {
   "cell_type": "code",
   "execution_count": 1,
   "metadata": {},
   "outputs": [
    {
     "data": {
      "text/plain": [
       "4"
      ]
     },
     "execution_count": 1,
     "metadata": {},
     "output_type": "execute_result"
    }
   ],
   "source": [
    "2+2"
   ]
  },
  {
   "cell_type": "markdown",
   "metadata": {},
   "source": [
    "# Question 2-Answer"
   ]
  },
  {
   "cell_type": "code",
   "execution_count": 4,
   "metadata": {},
   "outputs": [
    {
     "name": "stdout",
     "output_type": "stream",
     "text": [
      "2002  is divisible by 7 but not a multiple of 5\n",
      "2009  is divisible by 7 but not a multiple of 5\n",
      "2016  is divisible by 7 but not a multiple of 5\n",
      "2023  is divisible by 7 but not a multiple of 5\n",
      "2037  is divisible by 7 but not a multiple of 5\n",
      "2044  is divisible by 7 but not a multiple of 5\n",
      "2051  is divisible by 7 but not a multiple of 5\n",
      "2058  is divisible by 7 but not a multiple of 5\n",
      "2072  is divisible by 7 but not a multiple of 5\n",
      "2079  is divisible by 7 but not a multiple of 5\n",
      "2086  is divisible by 7 but not a multiple of 5\n",
      "2093  is divisible by 7 but not a multiple of 5\n",
      "2107  is divisible by 7 but not a multiple of 5\n",
      "2114  is divisible by 7 but not a multiple of 5\n",
      "2121  is divisible by 7 but not a multiple of 5\n",
      "2128  is divisible by 7 but not a multiple of 5\n",
      "2142  is divisible by 7 but not a multiple of 5\n",
      "2149  is divisible by 7 but not a multiple of 5\n",
      "2156  is divisible by 7 but not a multiple of 5\n",
      "2163  is divisible by 7 but not a multiple of 5\n",
      "2177  is divisible by 7 but not a multiple of 5\n",
      "2184  is divisible by 7 but not a multiple of 5\n",
      "2191  is divisible by 7 but not a multiple of 5\n",
      "2198  is divisible by 7 but not a multiple of 5\n",
      "2212  is divisible by 7 but not a multiple of 5\n",
      "2219  is divisible by 7 but not a multiple of 5\n",
      "2226  is divisible by 7 but not a multiple of 5\n",
      "2233  is divisible by 7 but not a multiple of 5\n",
      "2247  is divisible by 7 but not a multiple of 5\n",
      "2254  is divisible by 7 but not a multiple of 5\n",
      "2261  is divisible by 7 but not a multiple of 5\n",
      "2268  is divisible by 7 but not a multiple of 5\n",
      "2282  is divisible by 7 but not a multiple of 5\n",
      "2289  is divisible by 7 but not a multiple of 5\n",
      "2296  is divisible by 7 but not a multiple of 5\n",
      "2303  is divisible by 7 but not a multiple of 5\n",
      "2317  is divisible by 7 but not a multiple of 5\n",
      "2324  is divisible by 7 but not a multiple of 5\n",
      "2331  is divisible by 7 but not a multiple of 5\n",
      "2338  is divisible by 7 but not a multiple of 5\n",
      "2352  is divisible by 7 but not a multiple of 5\n",
      "2359  is divisible by 7 but not a multiple of 5\n",
      "2366  is divisible by 7 but not a multiple of 5\n",
      "2373  is divisible by 7 but not a multiple of 5\n",
      "2387  is divisible by 7 but not a multiple of 5\n",
      "2394  is divisible by 7 but not a multiple of 5\n",
      "2401  is divisible by 7 but not a multiple of 5\n",
      "2408  is divisible by 7 but not a multiple of 5\n",
      "2422  is divisible by 7 but not a multiple of 5\n",
      "2429  is divisible by 7 but not a multiple of 5\n",
      "2436  is divisible by 7 but not a multiple of 5\n",
      "2443  is divisible by 7 but not a multiple of 5\n",
      "2457  is divisible by 7 but not a multiple of 5\n",
      "2464  is divisible by 7 but not a multiple of 5\n",
      "2471  is divisible by 7 but not a multiple of 5\n",
      "2478  is divisible by 7 but not a multiple of 5\n",
      "2492  is divisible by 7 but not a multiple of 5\n",
      "2499  is divisible by 7 but not a multiple of 5\n",
      "2506  is divisible by 7 but not a multiple of 5\n",
      "2513  is divisible by 7 but not a multiple of 5\n",
      "2527  is divisible by 7 but not a multiple of 5\n",
      "2534  is divisible by 7 but not a multiple of 5\n",
      "2541  is divisible by 7 but not a multiple of 5\n",
      "2548  is divisible by 7 but not a multiple of 5\n",
      "2562  is divisible by 7 but not a multiple of 5\n",
      "2569  is divisible by 7 but not a multiple of 5\n",
      "2576  is divisible by 7 but not a multiple of 5\n",
      "2583  is divisible by 7 but not a multiple of 5\n",
      "2597  is divisible by 7 but not a multiple of 5\n",
      "2604  is divisible by 7 but not a multiple of 5\n",
      "2611  is divisible by 7 but not a multiple of 5\n",
      "2618  is divisible by 7 but not a multiple of 5\n",
      "2632  is divisible by 7 but not a multiple of 5\n",
      "2639  is divisible by 7 but not a multiple of 5\n",
      "2646  is divisible by 7 but not a multiple of 5\n",
      "2653  is divisible by 7 but not a multiple of 5\n",
      "2667  is divisible by 7 but not a multiple of 5\n",
      "2674  is divisible by 7 but not a multiple of 5\n",
      "2681  is divisible by 7 but not a multiple of 5\n",
      "2688  is divisible by 7 but not a multiple of 5\n",
      "2702  is divisible by 7 but not a multiple of 5\n",
      "2709  is divisible by 7 but not a multiple of 5\n",
      "2716  is divisible by 7 but not a multiple of 5\n",
      "2723  is divisible by 7 but not a multiple of 5\n",
      "2737  is divisible by 7 but not a multiple of 5\n",
      "2744  is divisible by 7 but not a multiple of 5\n",
      "2751  is divisible by 7 but not a multiple of 5\n",
      "2758  is divisible by 7 but not a multiple of 5\n",
      "2772  is divisible by 7 but not a multiple of 5\n",
      "2779  is divisible by 7 but not a multiple of 5\n",
      "2786  is divisible by 7 but not a multiple of 5\n",
      "2793  is divisible by 7 but not a multiple of 5\n",
      "2807  is divisible by 7 but not a multiple of 5\n",
      "2814  is divisible by 7 but not a multiple of 5\n",
      "2821  is divisible by 7 but not a multiple of 5\n",
      "2828  is divisible by 7 but not a multiple of 5\n",
      "2842  is divisible by 7 but not a multiple of 5\n",
      "2849  is divisible by 7 but not a multiple of 5\n",
      "2856  is divisible by 7 but not a multiple of 5\n",
      "2863  is divisible by 7 but not a multiple of 5\n",
      "2877  is divisible by 7 but not a multiple of 5\n",
      "2884  is divisible by 7 but not a multiple of 5\n",
      "2891  is divisible by 7 but not a multiple of 5\n",
      "2898  is divisible by 7 but not a multiple of 5\n",
      "2912  is divisible by 7 but not a multiple of 5\n",
      "2919  is divisible by 7 but not a multiple of 5\n",
      "2926  is divisible by 7 but not a multiple of 5\n",
      "2933  is divisible by 7 but not a multiple of 5\n",
      "2947  is divisible by 7 but not a multiple of 5\n",
      "2954  is divisible by 7 but not a multiple of 5\n",
      "2961  is divisible by 7 but not a multiple of 5\n",
      "2968  is divisible by 7 but not a multiple of 5\n",
      "2982  is divisible by 7 but not a multiple of 5\n",
      "2989  is divisible by 7 but not a multiple of 5\n",
      "2996  is divisible by 7 but not a multiple of 5\n",
      "3003  is divisible by 7 but not a multiple of 5\n",
      "3017  is divisible by 7 but not a multiple of 5\n",
      "3024  is divisible by 7 but not a multiple of 5\n",
      "3031  is divisible by 7 but not a multiple of 5\n",
      "3038  is divisible by 7 but not a multiple of 5\n",
      "3052  is divisible by 7 but not a multiple of 5\n",
      "3059  is divisible by 7 but not a multiple of 5\n",
      "3066  is divisible by 7 but not a multiple of 5\n",
      "3073  is divisible by 7 but not a multiple of 5\n",
      "3087  is divisible by 7 but not a multiple of 5\n",
      "3094  is divisible by 7 but not a multiple of 5\n",
      "3101  is divisible by 7 but not a multiple of 5\n",
      "3108  is divisible by 7 but not a multiple of 5\n",
      "3122  is divisible by 7 but not a multiple of 5\n",
      "3129  is divisible by 7 but not a multiple of 5\n",
      "3136  is divisible by 7 but not a multiple of 5\n",
      "3143  is divisible by 7 but not a multiple of 5\n",
      "3157  is divisible by 7 but not a multiple of 5\n",
      "3164  is divisible by 7 but not a multiple of 5\n",
      "3171  is divisible by 7 but not a multiple of 5\n",
      "3178  is divisible by 7 but not a multiple of 5\n",
      "3192  is divisible by 7 but not a multiple of 5\n",
      "3199  is divisible by 7 but not a multiple of 5\n"
     ]
    }
   ],
   "source": [
    "i=2000\n",
    "while i <=3200:\n",
    "    if (i%7==0 and i%5 != 0 ):\n",
    "        print(i,\" is divisible by 7 but not a multiple of 5\")\n",
    "    i=i+1\n"
   ]
  },
  {
   "cell_type": "markdown",
   "metadata": {},
   "source": [
    "# Question 3-Answer"
   ]
  },
  {
   "cell_type": "code",
   "execution_count": 2,
   "metadata": {},
   "outputs": [
    {
     "name": "stdout",
     "output_type": "stream",
     "text": [
      "Please enter your first name Abhijit\n",
      "you have entered your first name as  Abhijit\n",
      "Please enter your last name Dey\n",
      "you have entered your last name as  Dey\n",
      "Your name in reverse order is:  Dey Abhijit\n"
     ]
    }
   ],
   "source": [
    "firstname=input(\"Please enter your first name \")\n",
    "print(\"you have entered your first name as \",firstname)\n",
    "lastname=input(\"Please enter your last name \")\n",
    "print(\"you have entered your last name as \",lastname)\n",
    "print(\"Your name in reverse order is: \",lastname +\" \"+firstname)"
   ]
  },
  {
   "cell_type": "markdown",
   "metadata": {},
   "source": [
    "# Question 4-Answer"
   ]
  },
  {
   "cell_type": "code",
   "execution_count": 3,
   "metadata": {},
   "outputs": [
    {
     "name": "stdout",
     "output_type": "stream",
     "text": [
      "Volume of Sphere is  904.7779199999999\n"
     ]
    }
   ],
   "source": [
    "d=12 #Diameter of a sphere is accepted under variable d\n",
    "r=d/2 #calculating the radius\n",
    "V=4/3*3.14159*(r*r*r)\n",
    "print(\"Volume of Sphere is \",V)"
   ]
  },
  {
   "cell_type": "markdown",
   "metadata": {},
   "source": [
    "# Task 2:"
   ]
  },
  {
   "cell_type": "markdown",
   "metadata": {},
   "source": [
    "# Question 1-Answer"
   ]
  },
  {
   "cell_type": "code",
   "execution_count": 3,
   "metadata": {},
   "outputs": [
    {
     "name": "stdout",
     "output_type": "stream",
     "text": [
      "Enter few numbers 1234\n",
      "['1', '2', '3', '4']\n"
     ]
    }
   ],
   "source": [
    "l=list(input(\"Enter few numbers \"))\n",
    "print(l)"
   ]
  },
  {
   "cell_type": "markdown",
   "metadata": {},
   "source": [
    "# Question 2-Answer"
   ]
  },
  {
   "cell_type": "code",
   "execution_count": 15,
   "metadata": {},
   "outputs": [
    {
     "name": "stdout",
     "output_type": "stream",
     "text": [
      "*\r\n",
      "**\r\n",
      "***\r\n",
      "****\r\n",
      "*****\r\n",
      "******\r\n",
      "*****\r\n",
      "****\r\n",
      "***\r\n",
      "**\r\n"
     ]
    }
   ],
   "source": [
    "#This section is to print the pattern pyramid in ascending order\n",
    "for i in range(0,5):\n",
    "    for j in range(0,i+1):\n",
    "        print(\"*\",end=\"\")\n",
    "    print(\"\\r\")\n",
    "#This section is to print the pattern pyramid in descending order\n",
    "for i in range(5,0,-1):\n",
    "    for k in range(0,i+1):\n",
    "        print(\"*\",end=\"\")\n",
    "    print(\"\\r\")"
   ]
  },
  {
   "cell_type": "markdown",
   "metadata": {},
   "source": [
    "# Question 3-Answer"
   ]
  },
  {
   "cell_type": "code",
   "execution_count": 19,
   "metadata": {},
   "outputs": [
    {
     "name": "stdout",
     "output_type": "stream",
     "text": [
      "Enter a word: Abhijit\n",
      "Your input in reverse order:  tijihbA\n"
     ]
    }
   ],
   "source": [
    "usrchoice=input(\"Enter a word: \")\n",
    "l=usrchoice[::-1]\n",
    "print(\"Your input in reverse order: \",l)\n"
   ]
  },
  {
   "cell_type": "markdown",
   "metadata": {},
   "source": [
    "# Question 4-Answer"
   ]
  },
  {
   "cell_type": "code",
   "execution_count": 41,
   "metadata": {},
   "outputs": [
    {
     "name": "stdout",
     "output_type": "stream",
     "text": [
      "WE, THE PEOPLE OF INDIA,\r\n",
      "\thaving solemnly resolved to constitute India into a SOVEREIGN,! \r\n",
      "\t\tSOCIALIST, SECULAR, DEMOCRATIC REPUBLIC \r\n",
      "\t\t\tand to secure to all its citizens\n"
     ]
    }
   ],
   "source": [
    "txt=\"WE, THE PEOPLE OF INDIA,\\r\"\n",
    "txt1=\"\\thaving solemnly resolved to constitute India into a SOVEREIGN,\"+\"! \\r\"\n",
    "txt2=\"\\t\\tSOCIALIST, SECULAR, DEMOCRATIC REPUBLIC \\r\"\n",
    "txt3=\"\\t\\t\\tand to secure to all its citizens\"\n",
    "print(txt)\n",
    "print(txt1)\n",
    "print(txt2)\n",
    "print(txt3)"
   ]
  },
  {
   "cell_type": "code",
   "execution_count": null,
   "metadata": {},
   "outputs": [],
   "source": []
  }
 ],
 "metadata": {
  "kernelspec": {
   "display_name": "Python 3",
   "language": "python",
   "name": "python3"
  },
  "language_info": {
   "codemirror_mode": {
    "name": "ipython",
    "version": 3
   },
   "file_extension": ".py",
   "mimetype": "text/x-python",
   "name": "python",
   "nbconvert_exporter": "python",
   "pygments_lexer": "ipython3",
   "version": "3.7.3"
  }
 },
 "nbformat": 4,
 "nbformat_minor": 2
}
