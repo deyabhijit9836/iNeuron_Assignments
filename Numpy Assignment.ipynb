{
 "cells": [
  {
   "cell_type": "code",
   "execution_count": 1,
   "metadata": {},
   "outputs": [],
   "source": [
    "import numpy as np"
   ]
  },
  {
   "cell_type": "markdown",
   "metadata": {},
   "source": [
    "# Problem: Alexandre-Theophile Vandermonde matrix"
   ]
  },
  {
   "cell_type": "code",
   "execution_count": 13,
   "metadata": {},
   "outputs": [],
   "source": [
    "def ATV_MTRX(inpt,n,increasing=False):\n",
    "    if not increasing:\n",
    "        output_mtrx=np.array([x**(n-1-i) for x in inpt for i in range(n)]).reshape(inpt.size,n)\n",
    "    else:\n",
    "        output_mtrx=np.array([x**i for x in inpt for i in range(n)]).reshape(inpt.size,n)\n",
    "    return output_mtrx"
   ]
  },
  {
   "cell_type": "code",
   "execution_count": 19,
   "metadata": {},
   "outputs": [
    {
     "name": "stdout",
     "output_type": "stream",
     "text": [
      "*************OUTPUT SAMPLE1*****************\n",
      "\n",
      "The input array is: [1 2 3 4 5] \n",
      "\n",
      "The no. of columns of the output ATV matrix is: 3 \n",
      "\n",
      "The ATV Matrix in decreasing order is:\n",
      "\n",
      " [[ 1  1  1]\n",
      " [ 4  2  1]\n",
      " [ 9  3  1]\n",
      " [16  4  1]\n",
      " [25  5  1]] \n",
      "\n",
      "The ATV Matrix in increasing order is:\n",
      "\n",
      " [[ 1  1  1]\n",
      " [ 1  2  4]\n",
      " [ 1  3  9]\n",
      " [ 1  4 16]\n",
      " [ 1  5 25]] \n",
      "\n",
      "*************OUTPUT SAMPLE2*****************\n",
      "\n",
      "The input array is: [1 3 5 7 9] \n",
      "\n",
      "The no. of columns of the output ATV matrix is: 4 \n",
      "\n",
      "The ATV Matrix in decreasing order is:\n",
      "\n",
      " [[  1   1   1   1]\n",
      " [ 27   9   3   1]\n",
      " [125  25   5   1]\n",
      " [343  49   7   1]\n",
      " [729  81   9   1]] \n",
      "\n",
      "The ATV Matrix in increasing order is:\n",
      "\n",
      " [[  1   1   1   1]\n",
      " [  1   3   9  27]\n",
      " [  1   5  25 125]\n",
      " [  1   7  49 343]\n",
      " [  1   9  81 729]] \n",
      "\n"
     ]
    }
   ],
   "source": [
    "inpt=np.array([1,2,3,4,5])\n",
    "no_of_columns=3\n",
    "ATV_MTRX_DECREASE=ATV_MTRX(inpt,no_of_columns,False)\n",
    "ATV_MTRX_INCREASE=ATV_MTRX(inpt,no_of_columns,True)\n",
    "\n",
    "print(\"*************OUTPUT SAMPLE1*****************\\n\")\n",
    "print(\"The input array is:\",inpt,\"\\n\")\n",
    "print(\"The no. of columns of the output ATV matrix is:\",no_of_columns,\"\\n\")\n",
    "print(\"The ATV Matrix in decreasing order is:\\n\\n\",ATV_MTRX_DECREASE,\"\\n\")\n",
    "print(\"The ATV Matrix in increasing order is:\\n\\n\",ATV_MTRX_INCREASE,\"\\n\")\n",
    "\n",
    "\n",
    "inpt=np.array([1,3,5,7,9])\n",
    "no_of_columns=4\n",
    "ATV_MTRX_DECREASE=ATV_MTRX(inpt,no_of_columns,False)\n",
    "ATV_MTRX_INCREASE=ATV_MTRX(inpt,no_of_columns,True)\n",
    "\n",
    "print(\"*************OUTPUT SAMPLE2*****************\\n\")\n",
    "print(\"The input array is:\",inpt,\"\\n\")\n",
    "print(\"The no. of columns of the output ATV matrix is:\",no_of_columns,\"\\n\")\n",
    "print(\"The ATV Matrix in decreasing order is:\\n\\n\",ATV_MTRX_DECREASE,\"\\n\")\n",
    "print(\"The ATV Matrix in increasing order is:\\n\\n\",ATV_MTRX_INCREASE,\"\\n\")"
   ]
  },
  {
   "cell_type": "markdown",
   "metadata": {},
   "source": [
    "# Problem No: 2"
   ]
  },
  {
   "cell_type": "code",
   "execution_count": 5,
   "metadata": {},
   "outputs": [],
   "source": [
    "def mvng_avg(inpt,k):\n",
    "    if k==0 or k>inpt.size:\n",
    "        return(\"Please enter a value greater than 0 but less than length of the array\")\n",
    "    else:\n",
    "        j=(inpt.size+1)-k\n",
    "        output=np.array([int((np.sum(inpt[i:k+i],axis=0))/4) for i in range(j)])\n",
    "    return output\n"
   ]
  },
  {
   "cell_type": "code",
   "execution_count": 6,
   "metadata": {},
   "outputs": [
    {
     "name": "stdout",
     "output_type": "stream",
     "text": [
      "Enter the window size for moving average: 3\n",
      "\n",
      "*************Output Sample 1**************\n",
      "\n",
      "The input array is:\n",
      " [  3   5   7   2   8  10  11  65  72  81  99 100 150] \n",
      "\n",
      "The desired output is:\n",
      " [ 3  3  4  5  7 21 37 54 63 70 87]\n"
     ]
    }
   ],
   "source": [
    "inpt=np.array([3, 5, 7, 2, 8, 10, 11, 65, 72, 81, 99, 100, 150])\n",
    "k=int(input(\"Enter the window size for moving average: \")) #Window Size\n",
    "output=mvng_avg(inpt,k)\n",
    "print(\"\\n*************Output Sample 1**************\\n\")\n",
    "print(\"The input array is:\\n\",inpt,\"\\n\")\n",
    "print(\"The desired output is:\\n\",output)"
   ]
  }
 ],
 "metadata": {
  "kernelspec": {
   "display_name": "Python 3",
   "language": "python",
   "name": "python3"
  },
  "language_info": {
   "codemirror_mode": {
    "name": "ipython",
    "version": 3
   },
   "file_extension": ".py",
   "mimetype": "text/x-python",
   "name": "python",
   "nbconvert_exporter": "python",
   "pygments_lexer": "ipython3",
   "version": "3.7.3"
  }
 },
 "nbformat": 4,
 "nbformat_minor": 2
}
